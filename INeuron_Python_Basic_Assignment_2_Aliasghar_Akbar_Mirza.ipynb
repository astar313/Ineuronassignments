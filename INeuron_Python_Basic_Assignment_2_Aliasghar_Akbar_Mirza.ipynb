{
  "nbformat": 4,
  "nbformat_minor": 0,
  "metadata": {
    "kernelspec": {
      "display_name": "Python 3",
      "language": "python",
      "name": "python3"
    },
    "language_info": {
      "codemirror_mode": {
        "name": "ipython",
        "version": 3
      },
      "file_extension": ".py",
      "mimetype": "text/x-python",
      "name": "python",
      "nbconvert_exporter": "python",
      "pygments_lexer": "ipython3",
      "version": "3.8.5"
    },
    "colab": {
      "name": "INeuron Python Basic Assignment_2 - Aliasghar Akbar Mirza.ipynb",
      "provenance": []
    }
  },
  "cells": [
    {
      "cell_type": "markdown",
      "metadata": {
        "id": "Me-RI99ZoEEd"
      },
      "source": [
        "#### 1.What are the two values of the Boolean data type? How do you write them?"
      ]
    },
    {
      "cell_type": "code",
      "metadata": {
        "id": "JoCtUZ1ioEEg"
      },
      "source": [
        "#True or False"
      ],
      "execution_count": null,
      "outputs": []
    },
    {
      "cell_type": "markdown",
      "metadata": {
        "id": "WfZm2HFCoEEh"
      },
      "source": [
        "#### 2. What are the three different types of Boolean operators?"
      ]
    },
    {
      "cell_type": "code",
      "metadata": {
        "id": "vOXhIoy1oEEi"
      },
      "source": [
        "#and, or, and not"
      ],
      "execution_count": null,
      "outputs": []
    },
    {
      "cell_type": "markdown",
      "metadata": {
        "id": "3tirO3GxoEEi"
      },
      "source": [
        "#### 3. Make a list of each Boolean operator&#39;s truth tables (i.e. every possible combination of Boolean values for the operator and what it evaluate)."
      ]
    },
    {
      "cell_type": "code",
      "metadata": {
        "id": "oxEOa5zmoEEi"
      },
      "source": [
        "# True and True is True.\n",
        "\n",
        "# True and False is False.\n",
        "    \n",
        "# False and True is False.\n",
        "\n",
        "# False and False is False.\n",
        "\n",
        "# True or True is True.\n",
        "\n",
        "# True or False is True.\n",
        "\n",
        "# False or True is True.\n",
        "\n",
        "# False or False is False.\n",
        "\n",
        "# not True is False.\n",
        "\n",
        "# not False is True."
      ],
      "execution_count": null,
      "outputs": []
    },
    {
      "cell_type": "markdown",
      "metadata": {
        "id": "EEog5NTfoEEj"
      },
      "source": [
        "#### 4. What are the values of the following expressions?\n",
        "(5 > 4) and (3 == 5)\n",
        "\n",
        "not (5 > 4)\n",
        "\n",
        "(5 > 4) or (3 == 5)\n",
        "\n",
        "not ((5 > 4) or (3 == 5))\n",
        "\n",
        "(True and True) and (True == False)\n",
        "\n",
        "(not False) or (not True)"
      ]
    },
    {
      "cell_type": "code",
      "metadata": {
        "id": "5g86lm8boEEk"
      },
      "source": [
        "#(5 > 4) and (3 == 5) = False\n",
        "\n",
        "#not (5 > 4) = False\n",
        "\n",
        "#(5 > 4) or (3 == 5) = True\n",
        "\n",
        "#not ((5 > 4) or (3 == 5)) = False\n",
        "\n",
        "#(True and True) and (True == False) = False\n",
        "\n",
        "#(not False) or (not True) = True"
      ],
      "execution_count": null,
      "outputs": []
    },
    {
      "cell_type": "markdown",
      "metadata": {
        "id": "hWpYlhJdoEEl"
      },
      "source": [
        "#### 5. What are the six comparison operators?"
      ]
    },
    {
      "cell_type": "code",
      "metadata": {
        "id": "YwoG2Wh3oEEl"
      },
      "source": [
        "# > , < , >=, <=, ==, !="
      ],
      "execution_count": null,
      "outputs": []
    },
    {
      "cell_type": "markdown",
      "metadata": {
        "id": "7OFMkRAmoEEl"
      },
      "source": [
        "#### 6. How do you tell the difference between the equal to and assignment operators?Describe a condition and when you would use one."
      ]
    },
    {
      "cell_type": "code",
      "metadata": {
        "id": "1KLCSsdVoEEm"
      },
      "source": [
        "#== is the equal to operator that compares two values and evaluates to a Boolean, \n",
        "#while = is the assignment operator that stores a value in a variable."
      ],
      "execution_count": null,
      "outputs": []
    },
    {
      "cell_type": "markdown",
      "metadata": {
        "id": "Y-z3B0QaoEEm"
      },
      "source": [
        "#### 7. Identify the three blocks in this code:\n",
        "spam = 0\n",
        "\n",
        "if spam == 10:\n",
        "\n",
        "print('eggs')\n",
        "\n",
        "if spam > 5:\n",
        "\n",
        "print('bacon')\n",
        "\n",
        "else:\n",
        "print('ham')\n",
        "print('spam')\n",
        "print('spam')\n"
      ]
    },
    {
      "cell_type": "code",
      "metadata": {
        "id": "KPSTt_IWoEEm",
        "outputId": "5dfd5fa4-d001-4695-a135-5a82be3f1cdb"
      },
      "source": [
        "#The three blocks are everything inside the if statement and the lines print('bacon') and print('ham').\n",
        "\n",
        "'''\n",
        "print('eggs')\n",
        "if spam > 5:\n",
        "print('bacon')\n",
        "else:\n",
        "print('ham')\n",
        "print('spam')\n",
        "'''"
      ],
      "execution_count": null,
      "outputs": [
        {
          "data": {
            "text/plain": [
              "\"\\nprint('eggs')\\nif spam > 5:\\nprint('bacon')\\nelse:\\nprint('ham')\\nprint('spam')\\n\""
            ]
          },
          "execution_count": 10,
          "metadata": {},
          "output_type": "execute_result"
        }
      ]
    },
    {
      "cell_type": "markdown",
      "metadata": {
        "id": "t4E1C2hIoEEn"
      },
      "source": [
        "##### 8. Write code that prints Hello if 1 is stored in spam, prints Howdy if 2 is stored in spam, and prints Greetings! if anything else is stored in spam."
      ]
    },
    {
      "cell_type": "code",
      "metadata": {
        "id": "BfR2m8RVoEEo"
      },
      "source": [
        "# if spam == 1:\n",
        "#   print('Hello')\n",
        "#elif spam == 2:\n",
        "# print('Howdy')\n",
        "#else:\n",
        "# print('Greetings!')"
      ],
      "execution_count": null,
      "outputs": []
    },
    {
      "cell_type": "markdown",
      "metadata": {
        "id": "QTNjAtx6oEEo"
      },
      "source": [
        "#### 9.If your programme is stuck in an endless loop, what keys you’ll press?"
      ]
    },
    {
      "cell_type": "code",
      "metadata": {
        "id": "OyqUnYKyoEEo"
      },
      "source": [
        "#CTRL+C"
      ],
      "execution_count": null,
      "outputs": []
    },
    {
      "cell_type": "markdown",
      "metadata": {
        "id": "QA2mfTp6oEEo"
      },
      "source": [
        "#### 10. How can you tell the difference between break and continue?"
      ]
    },
    {
      "cell_type": "code",
      "metadata": {
        "id": "qhhK0oBBoEEo"
      },
      "source": [
        "#Break statement breaks the remainig iteration of the loop while continue \n",
        "#statement stops only the current iteration and proceeds to the next iteration"
      ],
      "execution_count": null,
      "outputs": []
    },
    {
      "cell_type": "markdown",
      "metadata": {
        "id": "M0dI8EhzoEEp"
      },
      "source": [
        "#### 11. In a for loop, what is the difference between range(10), range(0, 10), and range(0, 10, 1)?"
      ]
    },
    {
      "cell_type": "code",
      "metadata": {
        "id": "XuH2MShNoEEp"
      },
      "source": [
        "#range(10) - When user call range() with one argument,user will get a series of numbers that starts at 0 and\n",
        "#includes every whole number up to, but not including, the number that user have provided as the stop.\n",
        "\n",
        "\n",
        "#range(0,10) - user get to decide not only where the series of numbers stops but also where it starts, so user don’t have to start at 0 all the time.\n",
        "\n",
        "#range(0,10,1) - user can choose not only where the series of numbers will start and stop but also how big the difference will be between one number and the next. \n",
        "#If user don’t provide a step, then range() will automatically behave as if the step is 1."
      ],
      "execution_count": null,
      "outputs": []
    },
    {
      "cell_type": "markdown",
      "metadata": {
        "id": "vj9aLq7voEEp"
      },
      "source": [
        "#### 12. Write a short program that prints the numbers 1 to 10 using a for loop. Then write an equivalent program that prints the numbers 1 to 10 using a while loop."
      ]
    },
    {
      "cell_type": "code",
      "metadata": {
        "id": "Jrz6ZRe4oEEq"
      },
      "source": [
        "#for i in range(1,10):\n",
        "#    print(i)\n",
        "    \n",
        "#i = 0\n",
        "#while(i<10):\n",
        "#    print(i)\n",
        "#    i += 1"
      ],
      "execution_count": null,
      "outputs": []
    },
    {
      "cell_type": "markdown",
      "metadata": {
        "id": "jhz4RNGDoEEq"
      },
      "source": [
        "#### 13. If you had a function named bacon() inside a module named spam, how would you call it after importing spam?"
      ]
    },
    {
      "cell_type": "code",
      "metadata": {
        "id": "nC2lUijVoEEq"
      },
      "source": [
        "#spam.bacon()"
      ],
      "execution_count": null,
      "outputs": []
    },
    {
      "cell_type": "code",
      "metadata": {
        "id": "sgnC4GB9oEEq"
      },
      "source": [
        ""
      ],
      "execution_count": null,
      "outputs": []
    }
  ]
}