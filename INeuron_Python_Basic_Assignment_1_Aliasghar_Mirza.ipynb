{
  "nbformat": 4,
  "nbformat_minor": 0,
  "metadata": {
    "kernelspec": {
      "display_name": "Python 3",
      "language": "python",
      "name": "python3"
    },
    "language_info": {
      "codemirror_mode": {
        "name": "ipython",
        "version": 3
      },
      "file_extension": ".py",
      "mimetype": "text/x-python",
      "name": "python",
      "nbconvert_exporter": "python",
      "pygments_lexer": "ipython3",
      "version": "3.8.5"
    },
    "colab": {
      "name": "INeuron Python Basic Assignment_1  - Aliasghar Mirza.ipynb",
      "provenance": []
    }
  },
  "cells": [
    {
      "cell_type": "markdown",
      "metadata": {
        "id": "AbBs94E9zPuk"
      },
      "source": [
        "#### 1. In the below elements which of them are values or an expression? eg:- values can be integer or string and expressions will be mathematical operators.\n",
        "\n",
        "* \n",
        "\n",
        "'hello'\n",
        "\n",
        "-87.8\n",
        "\n",
        "- \n",
        "\n",
        "/ \n",
        "\n",
        "6 \n"
      ]
    },
    {
      "cell_type": "code",
      "metadata": {
        "id": "sojDbdYMzPuo"
      },
      "source": [
        "#Values = -87.8, 6, 'hello', '*'\n",
        "#expressions - *, -, /"
      ],
      "execution_count": null,
      "outputs": []
    },
    {
      "cell_type": "markdown",
      "metadata": {
        "id": "5UPr9sggzPup"
      },
      "source": [
        "#### 2. What is the difference between string and variable?"
      ]
    },
    {
      "cell_type": "code",
      "metadata": {
        "id": "7SO73ddFzPup"
      },
      "source": [
        "# A Variable is container/store of information and a string is information itself"
      ],
      "execution_count": null,
      "outputs": []
    },
    {
      "cell_type": "markdown",
      "metadata": {
        "id": "eWm3JMcozPuq"
      },
      "source": [
        "#### 3. Describe three different data types."
      ]
    },
    {
      "cell_type": "code",
      "metadata": {
        "id": "59cCxZ65zPuq"
      },
      "source": [
        "# 1. String 2 Integer 3 Float"
      ],
      "execution_count": null,
      "outputs": []
    },
    {
      "cell_type": "markdown",
      "metadata": {
        "id": "kgvBzXHazPur"
      },
      "source": [
        "#### 4. What is an expression made up of? What do all expressions do?"
      ]
    },
    {
      "cell_type": "code",
      "metadata": {
        "id": "YQcqAIRWzPur"
      },
      "source": [
        "#An expression is a combination of values, variables, operators, and calls to functions. \n",
        "#Expressions need to be evaluated. If you ask Python to print an expression, the interpreter evaluates the expression and displays the result.\n",
        "# Expression perform mathematical operations in python"
      ],
      "execution_count": null,
      "outputs": []
    },
    {
      "cell_type": "markdown",
      "metadata": {
        "id": "9wZKuj70zPus"
      },
      "source": [
        "#### 5. This assignment statements, like spam = 10. What is the difference between an expression and a statement?"
      ]
    },
    {
      "cell_type": "code",
      "metadata": {
        "id": "2h30oWrazPut"
      },
      "source": [
        "# An expression evaluates to a single value. A statement does not."
      ],
      "execution_count": null,
      "outputs": []
    },
    {
      "cell_type": "markdown",
      "metadata": {
        "id": "vWrdK6mDzPut"
      },
      "source": [
        "#### 6. After running the following code, what does the variable bacon contain?\n",
        "bacon = 22\n",
        "\n",
        "\n",
        "bacon + 1\n"
      ]
    },
    {
      "cell_type": "code",
      "metadata": {
        "id": "wpr3zQJ-zPuu"
      },
      "source": [
        "#23"
      ],
      "execution_count": null,
      "outputs": []
    },
    {
      "cell_type": "markdown",
      "metadata": {
        "id": "iAO33eL4zPuu"
      },
      "source": [
        "#### 7. What should the values of the following two terms be?\n",
        "'spam' + 'spamspam'\n",
        "\n",
        "'spam' * 3\n"
      ]
    },
    {
      "cell_type": "code",
      "metadata": {
        "id": "QcZOZq1czPuu"
      },
      "source": [
        "# 'spamspamspam'"
      ],
      "execution_count": null,
      "outputs": []
    },
    {
      "cell_type": "markdown",
      "metadata": {
        "id": "MMl-h9xPzPuv"
      },
      "source": [
        "#### 8. Why is eggs a valid variable name while 100 is invalid?"
      ]
    },
    {
      "cell_type": "code",
      "metadata": {
        "id": "k7v9uJpEzPuv"
      },
      "source": [
        "# A Variable name cannot begin with a number."
      ],
      "execution_count": null,
      "outputs": []
    },
    {
      "cell_type": "markdown",
      "metadata": {
        "id": "J8eDrvWSzPuv"
      },
      "source": [
        "#### 9. What three functions can be used to get the integer, floating-point number, or string version of a value?"
      ]
    },
    {
      "cell_type": "code",
      "metadata": {
        "id": "UgpQk8hDzPuv"
      },
      "source": [
        "#int(),str(),float()"
      ],
      "execution_count": null,
      "outputs": []
    },
    {
      "cell_type": "markdown",
      "metadata": {
        "id": "mSmL0UvFzPuv"
      },
      "source": [
        "#### 10. Why does this expression cause an error? How can you fix it?\n",
        "'I have eaten ' + 99 + ' burritos.'\n"
      ]
    },
    {
      "cell_type": "code",
      "metadata": {
        "id": "SPceYArdzPuw"
      },
      "source": [
        "# 'I have eaten' and 'burritos' are string while 99 is an int. The addition operation cannot be performed\n",
        "# on two different data types. \n",
        "# In order to fix, 99 need to be either '99' or str(99) (conversion to string)"
      ],
      "execution_count": null,
      "outputs": []
    },
    {
      "cell_type": "code",
      "metadata": {
        "id": "9SBgSpP1zPuw"
      },
      "source": [
        ""
      ],
      "execution_count": null,
      "outputs": []
    }
  ]
}